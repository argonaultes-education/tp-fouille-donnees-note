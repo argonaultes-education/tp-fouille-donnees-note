{
 "cells": [
  {
   "cell_type": "markdown",
   "id": "0986faf4",
   "metadata": {},
   "source": [
    "# Présentation\n",
    "\n",
    "Ce notebook contient les consignes ainsi que des emplacements vides pour apporter les réponses aux questions posées.\n",
    "\n",
    "Ne changez pas les noms de variable qui vous sont proposées.\n",
    "\n"
   ]
  },
  {
   "cell_type": "markdown",
   "id": "394bedef",
   "metadata": {},
   "source": [
    "\n",
    "# Echauffement\n",
    "\n",
    "## Création DataFrame à partir de 0 \n",
    "\n",
    "A partir d'une base de données SQLite3 dont le code python est présent ci-dessous, nous allons recréer un dataframe manuellement basée sur les mêmes données. En seconde partie, nous verrons comment convertir un résultat de requêtes SQL directement en dataframe\n",
    "\n",
    "```csv\n",
    "fruit,origin,quantity\n",
    "apple,france,12\n",
    "apple,germany,78\n",
    "apple,france,19\n",
    "orange,france,10\n",
    "orange,germany,98\n",
    "strawberry,spain,2\n",
    "```\n",
    "\n",
    "la requête SQL pour créer la table contenant ces données\n",
    "\n",
    "```sql\n",
    "CREATE TABLE basket(fruit text, origin text, quantity int)\n",
    "```\n"
   ]
  },
  {
   "cell_type": "code",
   "execution_count": null,
   "id": "6d0bd0e7",
   "metadata": {},
   "outputs": [],
   "source": [
    "import pandas as pd"
   ]
  },
  {
   "cell_type": "markdown",
   "id": "f08a326f",
   "metadata": {},
   "source": [
    "Créer une série représentant la colonne `fruit` en utilisant le constructeur [`pd.Series`](https://pandas.pydata.org/pandas-docs/stable/reference/api/pandas.Series.html)"
   ]
  },
  {
   "cell_type": "code",
   "execution_count": null,
   "id": "fe2b1c7f",
   "metadata": {},
   "outputs": [],
   "source": [
    "fruit = ..."
   ]
  },
  {
   "cell_type": "markdown",
   "id": "26dd3afa",
   "metadata": {},
   "source": [
    "Créer une série représentant la colonne `origin` en utilisant le constructeur [`pd.Series`](https://pandas.pydata.org/pandas-docs/stable/reference/api/pandas.Series.html)"
   ]
  },
  {
   "cell_type": "code",
   "execution_count": null,
   "id": "b491fabd",
   "metadata": {},
   "outputs": [],
   "source": [
    "origin = "
   ]
  },
  {
   "cell_type": "markdown",
   "id": "b7190385",
   "metadata": {},
   "source": [
    "Créer une série représentant la colonne `quantity` en utilisant le constructeur [`pd.Series`](https://pandas.pydata.org/pandas-docs/stable/reference/api/pandas.Series.html)"
   ]
  },
  {
   "cell_type": "code",
   "execution_count": null,
   "id": "898838b9",
   "metadata": {},
   "outputs": [],
   "source": [
    "quantity = "
   ]
  },
  {
   "cell_type": "markdown",
   "id": "55dc1aea",
   "metadata": {},
   "source": [
    "Créer un dataframe composé de ces 3 séries créées précédemment grâce au constructeur [`pd.DataFrame`](https://pandas.pydata.org/pandas-docs/stable/reference/api/pandas.DataFrame.html#pandas.DataFrame)"
   ]
  },
  {
   "cell_type": "code",
   "execution_count": null,
   "id": "a0f572c1",
   "metadata": {},
   "outputs": [],
   "source": [
    "basket = "
   ]
  },
  {
   "cell_type": "markdown",
   "id": "b0b35e97",
   "metadata": {},
   "source": [
    "## Création DataFrame à partir d'un fichier CSV\n",
    "\n",
    "Vous obtenez une seconde série de données, via un fichier CSV cette fois-ci. Vous pouvez donc lire le fichier CSV directement via la méthode `read_csv`.\n",
    "\n",
    "Ce fichier CSV contient les informations suivantes\n",
    "\n",
    "```csv\n",
    "fruit,origin,quantity\n",
    "kiwi,uk,12\n",
    "kiwi,new zealand,78\n",
    "pineapple,france,19\n",
    "blueberry,canada,10\n",
    "blueberry,canada,98\n",
    "strawberry,spain,2\n",
    "```"
   ]
  },
  {
   "cell_type": "code",
   "execution_count": null,
   "id": "c761f1b2",
   "metadata": {},
   "outputs": [],
   "source": [
    "basketTom = "
   ]
  },
  {
   "cell_type": "markdown",
   "id": "d2369142",
   "metadata": {},
   "source": [
    "Combiner les dataframes basket et basketTom en un nouveau dataframe basketFull"
   ]
  },
  {
   "cell_type": "code",
   "execution_count": null,
   "id": "a0903ef4",
   "metadata": {},
   "outputs": [],
   "source": [
    "basketFull = "
   ]
  },
  {
   "cell_type": "markdown",
   "id": "74ccace8",
   "metadata": {},
   "source": [
    "## Requêtes sur le DataFrame\n",
    "Pour répondre à chacune des questions, proposer une requête sur le dataframe `basketFull`. Attention à ne jamais modifier le dataframe `basketFull`."
   ]
  },
  {
   "cell_type": "markdown",
   "id": "c94bd562",
   "metadata": {},
   "source": [
    "Quelle est la quantité max par pays d'origine tous fruits confondus ?"
   ]
  },
  {
   "cell_type": "code",
   "execution_count": null,
   "id": "dab05a81",
   "metadata": {},
   "outputs": [],
   "source": []
  },
  {
   "cell_type": "markdown",
   "id": "4692fcaa",
   "metadata": {},
   "source": [
    "Quelle est la quantité max par fruit et par pays d'origine ?"
   ]
  },
  {
   "cell_type": "code",
   "execution_count": null,
   "id": "7468ebae",
   "metadata": {},
   "outputs": [],
   "source": []
  },
  {
   "cell_type": "markdown",
   "id": "4d71c157",
   "metadata": {},
   "source": [
    "Quelle est la quantité totale par fruit ?"
   ]
  },
  {
   "cell_type": "code",
   "execution_count": null,
   "id": "c26848f8",
   "metadata": {},
   "outputs": [],
   "source": []
  },
  {
   "cell_type": "markdown",
   "id": "55be420b",
   "metadata": {},
   "source": [
    "Afficher dans un graphique de barres empilées la quantité de fruits par origin."
   ]
  },
  {
   "cell_type": "code",
   "execution_count": null,
   "id": "37f9803f",
   "metadata": {},
   "outputs": [],
   "source": []
  },
  {
   "cell_type": "markdown",
   "id": "9319b041",
   "metadata": {},
   "source": [
    "# Transactions immobilières\n",
    "\n",
    "Pour cette seconde partie, nous repartons sur la collecte des transactions immobilières et nous allons tenter d'identifier les caractéristiques les plus pertinentes.\n",
    "\n",
    "Télécharger le [fichier des transactions immobilières](https://static.data.gouv.fr/resources/demandes-de-valeurs-foncieres/20230405-160733/valeursfoncieres-2022.txt)\n",
    "\n",
    "Créer un premier dataframe qui ne va conserver que les transactions relatives à Charleville-Mézières.\n",
    "\n",
    "Modifier le dataframe pour convertir les montants en k€.\n",
    "\n",
    "Conserver dans le dataframe uniquement les colonnes utiles :\n",
    "- No voie\n",
    "- Type de voie\n",
    "- Code voie\n",
    "- Voie\n",
    "- Code postal\n",
    "- Commune\n",
    "- Code departement\n",
    "- Code commune\n",
    "- Valeur fonciere\n",
    "- Nombre pieces principales\n",
    "- Surface Carrez du 1er lot\n",
    "\n",
    "Grâce l'[API Adresse](https://adresse.data.gouv.fr/api-doc/adresse), envoyer votre fichier d'adresse pour récupérer les coordonnées GPS correspondantes\n",
    "\n",
    "Construire un nouveau dataframe contenant uniquement latitude, longitude, valeur foncière, surface et nbre de pièces\n",
    "\n",
    "\n",
    "Afficher un 1er graphique x = latitude, y = longitude et la couleur correspondant au prix sous forme de scatter.\n",
    "\n",
    "Indiquer quelle est la valeur de la transaction immobilière la plus importante.\n",
    "\n",
    "Où se situe le centre géographique de toutes les transactions enregistrées ?\n"
   ]
  }
 ],
 "metadata": {
  "kernelspec": {
   "display_name": "Python 3 (ipykernel)",
   "language": "python",
   "name": "python3"
  },
  "language_info": {
   "codemirror_mode": {
    "name": "ipython",
    "version": 3
   },
   "file_extension": ".py",
   "mimetype": "text/x-python",
   "name": "python",
   "nbconvert_exporter": "python",
   "pygments_lexer": "ipython3",
   "version": "3.11.5"
  }
 },
 "nbformat": 4,
 "nbformat_minor": 5
}
