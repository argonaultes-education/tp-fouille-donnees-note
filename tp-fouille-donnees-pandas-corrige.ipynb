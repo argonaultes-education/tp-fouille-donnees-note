{
 "cells": [
  {
   "cell_type": "markdown",
   "id": "0986faf4",
   "metadata": {},
   "source": [
    "# Présentation\n",
    "\n",
    "Ce notebook contient les consignes ainsi que des emplacements vides pour apporter les réponses aux questions posées.\n",
    "\n",
    "Ne changez pas les noms de variable qui vous sont proposées.\n",
    "\n"
   ]
  },
  {
   "cell_type": "markdown",
   "id": "394bedef",
   "metadata": {},
   "source": [
    "\n",
    "# Echauffement\n",
    "\n",
    "## Création DataFrame à partir de 0 \n",
    "\n",
    "A partir d'une base de données SQLite3 dont le code python est présent ci-dessous, nous allons recréer un dataframe manuellement basée sur les mêmes données. En seconde partie, nous verrons comment convertir un résultat de requêtes SQL directement en dataframe\n",
    "\n",
    "```csv\n",
    "fruit,origin,quantity\n",
    "apple,france,12\n",
    "apple,germany,78\n",
    "apple,france,19\n",
    "orange,france,10\n",
    "orange,germany,98\n",
    "strawberry,spain,2\n",
    "```\n",
    "\n",
    "la requête SQL pour créer la table contenant ces données\n",
    "\n",
    "```sql\n",
    "CREATE TABLE basket(fruit text, origin text, quantity int)\n",
    "```\n"
   ]
  },
  {
   "cell_type": "code",
   "execution_count": null,
   "id": "6d0bd0e7",
   "metadata": {},
   "outputs": [],
   "source": [
    "import pandas as pd"
   ]
  },
  {
   "cell_type": "markdown",
   "id": "f08a326f",
   "metadata": {},
   "source": [
    "Créer une série représentant la colonne `fruit` en utilisant le constructeur [`pd.Series`](https://pandas.pydata.org/pandas-docs/stable/reference/api/pandas.Series.html)"
   ]
  },
  {
   "cell_type": "code",
   "execution_count": null,
   "id": "fe2b1c7f",
   "metadata": {},
   "outputs": [],
   "source": [
    "fruit = pd.Series(['apple', 'apple', 'apple', 'orange', 'orange', 'strawberry'])"
   ]
  },
  {
   "cell_type": "markdown",
   "id": "26dd3afa",
   "metadata": {},
   "source": [
    "Créer une série représentant la colonne `origin` en utilisant le constructeur [`pd.Series`](https://pandas.pydata.org/pandas-docs/stable/reference/api/pandas.Series.html)"
   ]
  },
  {
   "cell_type": "code",
   "execution_count": null,
   "id": "b491fabd",
   "metadata": {},
   "outputs": [],
   "source": [
    "origin = pd.Series(['france', 'germany', 'france', 'france', 'germany', 'spain'])"
   ]
  },
  {
   "cell_type": "markdown",
   "id": "b7190385",
   "metadata": {},
   "source": [
    "Créer une série représentant la colonne `quantity` en utilisant le constructeur [`pd.Series`](https://pandas.pydata.org/pandas-docs/stable/reference/api/pandas.Series.html)"
   ]
  },
  {
   "cell_type": "code",
   "execution_count": null,
   "id": "898838b9",
   "metadata": {},
   "outputs": [],
   "source": [
    "quantity = pd.Series([12, 78, 19, 10, 98, 2])"
   ]
  },
  {
   "cell_type": "markdown",
   "id": "55dc1aea",
   "metadata": {},
   "source": [
    "Créer un dataframe composé de ces 3 séries créées précédemment grâce au constructeur [`pd.DataFrame`](https://pandas.pydata.org/pandas-docs/stable/reference/api/pandas.DataFrame.html#pandas.DataFrame)"
   ]
  },
  {
   "cell_type": "code",
   "execution_count": null,
   "id": "a0f572c1",
   "metadata": {},
   "outputs": [],
   "source": [
    "basket = pd.DataFrame({'fruit': fruit, 'origin': origin, 'quantity': quantity})\n",
    "basket.info()"
   ]
  },
  {
   "cell_type": "markdown",
   "id": "b0b35e97",
   "metadata": {},
   "source": [
    "## Création DataFrame à partir d'un fichier CSV\n",
    "\n",
    "Vous obtenez une seconde série de données, via un fichier CSV cette fois-ci. Vous pouvez donc lire le fichier CSV directement via la méthode `read_csv`.\n",
    "\n",
    "Ce fichier CSV contient les informations suivantes\n",
    "\n",
    "```csv\n",
    "fruit,origin,quantity\n",
    "kiwi,uk,12\n",
    "kiwi,new zealand,78\n",
    "pineapple,france,19\n",
    "blueberry,canada,10\n",
    "blueberry,canada,98\n",
    "strawberry,spain,2\n",
    "```"
   ]
  },
  {
   "cell_type": "code",
   "execution_count": null,
   "id": "c761f1b2",
   "metadata": {},
   "outputs": [],
   "source": [
    "import io\n",
    "\n",
    "data = ''\n",
    "data += 'fruit,origin,quantity\\n'\n",
    "data += 'kiwi,uk,12\\n'\n",
    "data += 'kiwi,new zealand,78\\n'\n",
    "data += 'pineapple,france,19\\n'\n",
    "data += 'blueberry,canada,10\\n'\n",
    "data += 'blueberry,canada,98\\n'\n",
    "data += 'strawberry,spain,2'\n",
    "\n",
    "output = io.StringIO(data)\n",
    "\n",
    "\n",
    "basketTom = pd.read_csv(output)\n",
    "basketTom.info()"
   ]
  },
  {
   "cell_type": "markdown",
   "id": "d2369142",
   "metadata": {},
   "source": [
    "Combiner les dataframes basket et basketTom en un nouveau dataframe basketFull"
   ]
  },
  {
   "cell_type": "code",
   "execution_count": null,
   "id": "a0903ef4",
   "metadata": {},
   "outputs": [],
   "source": [
    "basketFull = pd.concat([basket, basketTom])\n",
    "basketFull.info()"
   ]
  },
  {
   "cell_type": "markdown",
   "id": "74ccace8",
   "metadata": {},
   "source": [
    "## Requêtes sur le DataFrame\n",
    "Pour répondre à chacune des questions, proposer une requête sur le dataframe `basketFull`. Attention à ne jamais modifier le dataframe `basketFull`."
   ]
  },
  {
   "cell_type": "markdown",
   "id": "c94bd562",
   "metadata": {},
   "source": [
    "Quelle est la quantité max par pays d'origine tous fruits confondus ?"
   ]
  },
  {
   "cell_type": "code",
   "execution_count": null,
   "id": "dab05a81",
   "metadata": {},
   "outputs": [],
   "source": [
    "basketFull[['origin', 'quantity']].groupby('origin').max()"
   ]
  },
  {
   "cell_type": "markdown",
   "id": "4692fcaa",
   "metadata": {},
   "source": [
    "Quelle est la quantité max par fruit et par pays d'origine ?"
   ]
  },
  {
   "cell_type": "code",
   "execution_count": null,
   "id": "7468ebae",
   "metadata": {},
   "outputs": [],
   "source": [
    "basketFull.groupby(['fruit', 'origin']).max()"
   ]
  },
  {
   "cell_type": "markdown",
   "id": "4d71c157",
   "metadata": {},
   "source": [
    "Quelle est la quantité totale par fruit ?"
   ]
  },
  {
   "cell_type": "code",
   "execution_count": null,
   "id": "c26848f8",
   "metadata": {},
   "outputs": [],
   "source": [
    "basketFull[['fruit', 'quantity']].groupby('fruit').sum()"
   ]
  },
  {
   "cell_type": "markdown",
   "id": "55be420b",
   "metadata": {},
   "source": [
    "Afficher dans un graphique de barres empilées la quantité de fruits transférés."
   ]
  },
  {
   "cell_type": "code",
   "execution_count": null,
   "id": "a4461f18",
   "metadata": {},
   "outputs": [],
   "source": [
    "basketFull.groupby(['fruit', 'origin']).max()['quantity'].info()"
   ]
  },
  {
   "cell_type": "code",
   "execution_count": null,
   "id": "37f9803f",
   "metadata": {},
   "outputs": [],
   "source": [
    "basketFull.groupby(['fruit', 'origin']).sum()['quantity'].unstack('origin').plot.bar(stacked=True, rot = 45)"
   ]
  },
  {
   "cell_type": "markdown",
   "id": "9319b041",
   "metadata": {},
   "source": [
    "# Transactions immobilières\n",
    "\n",
    "Pour cette seconde partie, nous repartons sur la collecte des transactions immobilières et nous allons tenter d'identifier les caractéristiques les plus pertinentes.\n",
    "\n",
    "Télécharger le [fichier des transactions immobilières](https://static.data.gouv.fr/resources/demandes-de-valeurs-foncieres/20230405-160733/valeursfoncieres-2022.txt)\n",
    "\n",
    "Créer un premier dataframe qui ne va conserver que les transactions relatives à Charleville-Mézières.\n",
    "\n",
    "Modifier le dataframe pour convertir les montants en k€.\n",
    "\n",
    "Conserver dans le dataframe uniquement les colonnes utiles :\n",
    "- No voie\n",
    "- Type de voie\n",
    "- Code voie\n",
    "- Voie\n",
    "- Code postal\n",
    "- Commune\n",
    "- Code departement\n",
    "- Code commune\n",
    "- Valeur fonciere\n",
    "- Nombre pieces principales\n",
    "- Surface Carrez du 1er lot\n",
    "\n",
    "Grâce l'[API Adresse](https://adresse.data.gouv.fr/api-doc/adresse), envoyer votre fichier d'adresse pour récupérer les coordonnées GPS correspondantes\n",
    "\n",
    "Construire un nouveau dataframe contenant uniquement latitude, longitude, valeur foncière, surface et nbre de pièces\n",
    "\n",
    "\n",
    "Afficher un 1er graphique x = latitude, y = longitude et la couleur correspondant au prix sous forme de scatter.\n",
    "\n",
    "Indiquer quelle est la valeur de la transaction immobilière la plus importante.\n",
    "\n",
    "Où se situe le centre géographique de toutes les transactions enregistrées ?\n"
   ]
  },
  {
   "cell_type": "code",
   "execution_count": null,
   "id": "a2bd77b3",
   "metadata": {},
   "outputs": [],
   "source": [
    "import pandas as pd\n",
    "import io"
   ]
  },
  {
   "cell_type": "code",
   "execution_count": null,
   "id": "f5b4a30e",
   "metadata": {
    "scrolled": true
   },
   "outputs": [],
   "source": [
    "immobilier = pd.read_csv('./valeursfoncieres-2022.txt', sep='|')\n",
    "immobilier.info()"
   ]
  },
  {
   "cell_type": "code",
   "execution_count": null,
   "id": "ceac9e7e",
   "metadata": {},
   "outputs": [],
   "source": [
    "immobilier['Code postal'].head()"
   ]
  },
  {
   "cell_type": "code",
   "execution_count": null,
   "id": "e7bafacb",
   "metadata": {},
   "outputs": [],
   "source": [
    "charleville = immobilier[immobilier['Commune'].str.match('charleville.+', case=False)]"
   ]
  },
  {
   "cell_type": "code",
   "execution_count": null,
   "id": "14cee3a1",
   "metadata": {},
   "outputs": [],
   "source": [
    "charleville['Commune'].unique()"
   ]
  },
  {
   "cell_type": "code",
   "execution_count": null,
   "id": "2d841022",
   "metadata": {},
   "outputs": [],
   "source": [
    "charleville = charleville[['No voie', 'Type de voie', 'Code voie', 'Voie', 'Code postal', 'Commune', 'Code departement', 'Code commune', 'Valeur fonciere', 'Nombre pieces principales', 'Surface Carrez du 1er lot']]"
   ]
  },
  {
   "cell_type": "code",
   "execution_count": null,
   "id": "c044b26a",
   "metadata": {},
   "outputs": [],
   "source": [
    "charleville['No voie'] = charleville['No voie'].fillna(0)"
   ]
  },
  {
   "cell_type": "code",
   "execution_count": null,
   "id": "ac825eec",
   "metadata": {},
   "outputs": [],
   "source": [
    "charleville['Code postal']"
   ]
  },
  {
   "cell_type": "code",
   "execution_count": null,
   "id": "c18a2d1c",
   "metadata": {},
   "outputs": [],
   "source": [
    "def convert_to_str(x):\n",
    "    return str(int(x))\n",
    "\n",
    "search = pd.DataFrame()\n",
    "search['adress'] = charleville['No voie'].apply(convert_to_str) + ', ' + charleville['Voie']\n",
    "search['postcode'] = charleville['Code postal']\n",
    "\n",
    "search['city'] = charleville['Commune']"
   ]
  },
  {
   "cell_type": "code",
   "execution_count": null,
   "id": "1859b294",
   "metadata": {},
   "outputs": [],
   "source": [
    "dataCSV = search.to_csv(None) #convert to string"
   ]
  },
  {
   "cell_type": "code",
   "execution_count": null,
   "id": "91ec227d",
   "metadata": {},
   "outputs": [],
   "source": [
    "print(dataCSV)"
   ]
  },
  {
   "cell_type": "code",
   "execution_count": null,
   "id": "7a860566",
   "metadata": {},
   "outputs": [],
   "source": [
    "import requests"
   ]
  },
  {
   "cell_type": "code",
   "execution_count": null,
   "id": "3999cbb2",
   "metadata": {},
   "outputs": [],
   "source": [
    "# multipart file\n",
    "# -F column=adress, -F column=posstcode\n",
    "# -F result_columns=latitude\n",
    "# -F result_columnss=longitude\n",
    "\n",
    "\n",
    "files = [\n",
    "    ('data', dataCSV),\n",
    "    ('columns', (None, 'adress')),\n",
    "    ('columns', (None, 'postcode')),\n",
    "    ('result_columns', (None, 'latitude')),\n",
    "    ('result_columns', (None, 'longitude'))\n",
    "]\n",
    "\n",
    "response = requests.post('https://api-adresse.data.gouv.fr/search/csv/', files=files)\n",
    "\n"
   ]
  },
  {
   "cell_type": "code",
   "execution_count": null,
   "id": "57cffc63",
   "metadata": {},
   "outputs": [],
   "source": [
    "charlevilleLonLat = pd.read_csv(io.StringIO(response.text))"
   ]
  },
  {
   "cell_type": "code",
   "execution_count": null,
   "id": "f4cad3da",
   "metadata": {},
   "outputs": [],
   "source": [
    "charlevilleLonLat.columns"
   ]
  },
  {
   "cell_type": "code",
   "execution_count": null,
   "id": "4e828c16",
   "metadata": {
    "scrolled": true
   },
   "outputs": [],
   "source": [
    "charlevilleLonLat.info()"
   ]
  },
  {
   "cell_type": "code",
   "execution_count": null,
   "id": "ee35177e",
   "metadata": {},
   "outputs": [],
   "source": [
    "charleville.info()"
   ]
  },
  {
   "cell_type": "code",
   "execution_count": null,
   "id": "33ee702d",
   "metadata": {},
   "outputs": [],
   "source": [
    "#Join with key unnamed both dataframe\n",
    "charlevilleFull = charleville.join(charlevilleLonLat.set_index('Unnamed: 0'), lsuffix='_origin', rsuffix='_api')"
   ]
  },
  {
   "cell_type": "code",
   "execution_count": null,
   "id": "ec3d5669",
   "metadata": {
    "scrolled": true
   },
   "outputs": [],
   "source": [
    "charlevilleFull.info()"
   ]
  },
  {
   "cell_type": "code",
   "execution_count": null,
   "id": "e71343e2",
   "metadata": {},
   "outputs": [],
   "source": [
    "charlevilleFull['Valeur fonciere'] = charlevilleFull['Valeur fonciere'].str.replace(',', '.', regex=True).astype('float32')"
   ]
  },
  {
   "cell_type": "code",
   "execution_count": null,
   "id": "595b3c86",
   "metadata": {
    "scrolled": true
   },
   "outputs": [],
   "source": [
    "charlevilleFull.plot.scatter(x='longitude', y='latitude', c='Valeur fonciere')"
   ]
  },
  {
   "cell_type": "code",
   "execution_count": null,
   "id": "2c474f4e",
   "metadata": {},
   "outputs": [],
   "source": [
    "charlevilleFull.to_csv('./charleville-full.csv')"
   ]
  },
  {
   "cell_type": "code",
   "execution_count": null,
   "id": "2f90f63f",
   "metadata": {},
   "outputs": [],
   "source": [
    "charlevilleLonLat.to_csv('./charleville-lite.csv')"
   ]
  },
  {
   "cell_type": "code",
   "execution_count": null,
   "id": "229ded33",
   "metadata": {},
   "outputs": [],
   "source": [
    "charleville.to_csv('./charleville.csv')"
   ]
  },
  {
   "cell_type": "code",
   "execution_count": null,
   "id": "4529ee78",
   "metadata": {},
   "outputs": [],
   "source": [
    "immobilier.to_csv('./immobilier.csv')"
   ]
  }
 ],
 "metadata": {
  "kernelspec": {
   "display_name": "Python 3 (ipykernel)",
   "language": "python",
   "name": "python3"
  },
  "language_info": {
   "codemirror_mode": {
    "name": "ipython",
    "version": 3
   },
   "file_extension": ".py",
   "mimetype": "text/x-python",
   "name": "python",
   "nbconvert_exporter": "python",
   "pygments_lexer": "ipython3",
   "version": "3.11.5"
  }
 },
 "nbformat": 4,
 "nbformat_minor": 5
}
